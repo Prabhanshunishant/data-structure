{
  "nbformat": 4,
  "nbformat_minor": 0,
  "metadata": {
    "colab": {
      "provenance": []
    },
    "kernelspec": {
      "name": "python3",
      "display_name": "Python 3"
    },
    "language_info": {
      "name": "python"
    }
  },
  "cells": [
    {
      "cell_type": "code",
      "source": [],
      "metadata": {
        "id": "vPgrpy7l0tut"
      },
      "execution_count": null,
      "outputs": []
    },
    {
      "cell_type": "markdown",
      "source": [],
      "metadata": {
        "id": "8lRJuWIc1QiS"
      }
    },
    {
      "cell_type": "code",
      "source": [],
      "metadata": {
        "id": "PC897S68OpjS"
      },
      "execution_count": null,
      "outputs": []
    },
    {
      "cell_type": "markdown",
      "source": [
        "1. What are data structures, and why are they important\n",
        "\n",
        "ans-Data structures are a way of organizing and storing data in a computer so that it can be used efficiently. They are crucial for creating effective programs because they allow for optimized storage, retrieval, and manipulation of information. Different data structures are suited for different tasks, making it important to understand them for building well-performing software\n",
        "\n",
        "2. Explain the difference between mutable and immutable data types with examples\n",
        "\n",
        "ans-mutable data types can be modified after creation, while immutable data types cannot be changed once they are created\n",
        "\n",
        "3.What are the main differences between lists and tuples in Python\n",
        "\n",
        "ans-The main differences between lists and tuples in Python are centered around their mutability and implications for performance and use cases:\n",
        "Mutability: This is the most significant difference. Lists are mutable, meaning their elements can be changed (added, removed, or modified) after creation. Tuples are immutable, meaning their elements cannot be altered once the tuple is created.Performance:\n",
        "Due to their immutability, tuples are generally more memory-efficient and can offer slightly faster iteration and access compared to lists. This is because Python can optimize operations on fixed-size, unchangeable data.\n",
        "\n",
        "4.Describe how dictionaries store data\n",
        "\n",
        "ans-Python dictionaries store data as an unordered collection of unique key-value pairs. This data structure is implemented using hash tables, which enable efficient retrieval, insertion, and deletion of elements.\n",
        "\n",
        "5.Why might you use a set instead of a list in Python\n",
        "\n",
        "ans-You might use a Python set instead of a list in the following scenarios:\n",
        "Ensuring Uniqueness:\n",
        "Sets automatically store only unique elements, eliminating duplicates. If your data naturally requires that each item appears only once, a set is the appropriate choice. Lists, conversely, allow duplicate values.\n",
        "Fast Membership Testing:\n",
        "Sets are optimized for checking if an element exists within the collection (e.g., using the in operator). This operation is significantly faster for sets, especially with large collections, due to their underlying hash-based implementation. Lists require a linear search, which becomes slower as the list grows.\n",
        "Performing Mathematical Set Operations:\n",
        "Sets provide built-in methods for common mathematical set operations like union, intersection, difference, and symmetric difference. If you need to perform these types of operations on your data, sets offer a convenient and efficient way to do so.\n",
        "\n",
        "6.What is a string in Python, and how is it different from a list\n",
        "\n",
        "ans-A string is a sequence of characters. A list a sequence of values which can be characters, integers or even another list (referred to as a nested list). A dictionary is a more general version of a list and is made up a set of keys and values where there is a mapping between a given key and its corresponding value.\n",
        "\n",
        "7.How do tuples ensure data integrity in Python\n",
        "\n",
        "ans-\n",
        "\n",
        "Tuples are immutable to ensure that their contents remain constant throughout their lifecycle, guaranteeing data integrity and reliability. This immutability allows tuples to be used as keys in dictionaries and elements in sets\n",
        "\n",
        "8.What is a hash table, and how does it relate to dictionaries in Python\n",
        "\n",
        "ans-A hash table is a data structure that stores key-value pairs, allowing for efficient retrieval of values based on their associated keys. It achieves this by using a hash function, which takes a key as input and computes an index (or hash code) into an array of \"buckets\" or \"slots.\" The value corresponding to the key is then stored in or retrieved from that specific bucket.\n",
        "\n",
        "9.Can lists contain different data types in Python\n",
        "\n",
        "ans-Yes, lists in Python can contain different data types. This is a key feature of Python lists\n",
        "\n",
        "10.Explain why strings are immutable in Python\n",
        "\n",
        "ans-Strings are immutable in Python, meaning their content cannot be changed after they are created. Any operation that appears to modify a string, such as concatenation or replacement, actually results in the creation of a new string object in memory, while the original string remains unchanged. The variable then refers to this new string.\n",
        "Several reasons contribute to this design choice\n",
        "\n",
        "Performance Optimization\n",
        "Security and Data Integrity\n",
        "Thread Safety\n",
        "Hashing and Dictionary Keys\n",
        "Predictability and Reduced Bugs\n",
        "\n",
        "11. What advantages do dictionaries offer over lists for certain tasks\n",
        "\n",
        "ans-Advantages of using Dictionary Data Structure in Python:\n",
        "Fast access: Dictionaries provide fast access to values based on their keys. This is because they use a hash table to store their key-value pairs, which allows for constant-time lookups\n",
        "\n",
        "12.Describe a scenario where using a tuple would be preferable over a list\n",
        "\n",
        "ans-A scenario where using a tuple would be preferable over a list in Python is when representing fixed, unchangeable data where the order and meaning of elements are inherently linked, and immutability is a desired characteristic.\n",
        "Consider storing geographical coordinates, such as latitude and longitude, for a specific point.\n",
        "Python\n",
        "\n",
        "# Using a tuple for coordinates\n",
        "coordinates = (34.0522, -118.2437)\n",
        "In this case:\n",
        "Immutability:\n",
        "The latitude and longitude of a fixed point should not change. Using a tuple ensures that these values cannot be accidentally modified during program execution, preventing data corruption.\n",
        "Data Representation:\n",
        "The two elements, latitude and longitude, are intrinsically linked and represent a single concept (a coordinate). A tuple naturally groups these related values together.\n",
        "Performance:\n",
        "For fixed data, tuples can offer a slight performance advantage over lists in certain operations like iteration and indexing due to their immutable nature.\n",
        "Use as Dictionary Keys/Set Elements:\n",
        "If these coordinates needed to be used as keys in a dictionary or elements in a set, tuples are suitable because they are hashable (due to immutability), whereas lists are not.\n",
        "\n",
        "13.P How do sets handle duplicate values in Python\n",
        "\n",
        "ans-Python sets fundamentally do not allow duplicate values. This is a core characteristic of the set data type, mirroring the mathematical definition of a set.\n",
        "When duplicate elements are added to a set, either during its creation or through methods like add(), the set automatically handles them by only storing a single instance of each unique element. Any subsequent attempts to add an already existing element will have no effect on the set's contents; the duplicate element is simply ignored.\n",
        "\n",
        "14. How does the “in” keyword work differently for lists and dictionarie\n",
        "\n",
        "ans-the in operation for the dictionary tests on keys. The key of the dictionary is a unique value as well as the set, and the execution time is about the same as for sets. On the other hand, dictionary values can be duplicated like a list\n",
        "\n",
        "15.Can you modify the elements of a tuple? Explain why or why not\n",
        "\n",
        "ans-No, you cannot directly modify the elements of a tuple in Python. Tuples are immutable, meaning their contents cannot be changed after creation. This immutability is a core characteristic of tuples.\n",
        "\n",
        "16. What is a nested dictionary, and give an example of its use case\n",
        "\n",
        "\n",
        "In Python, a nested dictionary is a dictionary inside a dictionary. It's a collection of dictionaries into one single dictionary. Here, the nested_dict is a nested dictionary with the dictionary dictA and dictB . They are two dictionary each having own key and value.\n",
        "\n",
        "17.Describe the time complexity of accessing elements in a dictionary\n",
        "\n",
        "ans-Accessing elements in a dictionary (also known as a hash map or associative array) typically has a time complexity of O(1) on average, which means it takes constant time regardless of the dictionary's size. This is because dictionaries use a hash table internally to store and retrieve data, and hash table lookups are generally very fast.\n",
        "\n",
        "18.In what situations are lists preferred over dictionaries\n",
        "\n",
        "ans-For quick data look-ups, configurations, or caches, favor dictionaries. For ordered collections and sequence operations, such as maintaining a stack or queue, lists are more suitable\n",
        "\n",
        "19.Why are dictionaries considered unordered, and how does that affect data retrieval\n",
        "\n",
        "ans-A dictionary is termed an unordered collection of objects because dictionaries do not maintain any inherent order of the items based on when they were added\n",
        "\n",
        "20. Explain the difference between a list and a dictionary in terms of data retrieva\n",
        "\n",
        "ans- Lists retrieve elements based on their numerical index (position), while dictionaries retrieve elements based on their unique keys\n",
        "\n"
      ],
      "metadata": {
        "id": "lYkH3zlq1Q3x"
      }
    },
    {
      "cell_type": "code",
      "source": [
        "#1.Write a code to create a string with your name and print it\n",
        "\n",
        "my_nam = \"Prabhanshu\"\n",
        "print(my_nam)"
      ],
      "metadata": {
        "colab": {
          "base_uri": "https://localhost:8080/"
        },
        "id": "OjjqgK4W0ru1",
        "outputId": "6ff26b83-7585-4e38-da7e-a86bff1a0e4a"
      },
      "execution_count": 4,
      "outputs": [
        {
          "output_type": "stream",
          "name": "stdout",
          "text": [
            "Prabhanshu\n"
          ]
        }
      ]
    },
    {
      "cell_type": "markdown",
      "source": [],
      "metadata": {
        "id": "QWkog8vB0IGq"
      }
    },
    {
      "cell_type": "code",
      "source": [
        "from typing import AnyStr\n",
        "#2.Write a code to find the length of the string \"Hello World\"\n",
        "\n",
        "text = \"Hello World\"\n",
        "print(len(text))\n"
      ],
      "metadata": {
        "colab": {
          "base_uri": "https://localhost:8080/"
        },
        "id": "1shtLmOSEfat",
        "outputId": "a6d91776-0d43-4e5b-d321-48c477bb1294"
      },
      "execution_count": 5,
      "outputs": [
        {
          "output_type": "stream",
          "name": "stdout",
          "text": [
            "11\n"
          ]
        }
      ]
    },
    {
      "cell_type": "code",
      "source": [
        "#3.Write a code to slice the first 3 characters from the string \"Python Programming\n",
        "\n",
        "text = \"Python Programming\"\n",
        "print(text[0:3])"
      ],
      "metadata": {
        "colab": {
          "base_uri": "https://localhost:8080/"
        },
        "id": "HbT7FVagFstU",
        "outputId": "5fb59d45-5209-4d61-c190-8f3b331e9dd5"
      },
      "execution_count": 6,
      "outputs": [
        {
          "output_type": "stream",
          "name": "stdout",
          "text": [
            "Pyt\n"
          ]
        }
      ]
    },
    {
      "cell_type": "code",
      "source": [
        "#4.Write a code to convert the string \"hello\" to uppercase\n",
        "\n",
        "original_string = \"hello\"\n",
        "uppercase_string = original_string.upper()\n",
        "print(uppercase_string)\n"
      ],
      "metadata": {
        "colab": {
          "base_uri": "https://localhost:8080/"
        },
        "id": "9XysP1xkF8V4",
        "outputId": "f2a94d40-464c-43df-95df-f3b1e43edd28"
      },
      "execution_count": 13,
      "outputs": [
        {
          "output_type": "stream",
          "name": "stdout",
          "text": [
            "HELLO\n"
          ]
        }
      ]
    },
    {
      "cell_type": "code",
      "source": [
        "# 5. P Write a code to replace the word \"apple\" with \"orange\" in the string \"I like apple\n",
        "\n",
        "text = \"I like apple\"\n",
        "new_text = text.replace(\"apple\", \"orange\")\n",
        "print(new_text)\n",
        ""
      ],
      "metadata": {
        "colab": {
          "base_uri": "https://localhost:8080/"
        },
        "id": "k_IuVYLCHGpQ",
        "outputId": "f7709a92-c9b7-4d4a-dc7c-c66ab6c290cf"
      },
      "execution_count": 20,
      "outputs": [
        {
          "output_type": "stream",
          "name": "stdout",
          "text": [
            "I like orange\n"
          ]
        }
      ]
    },
    {
      "cell_type": "code",
      "source": [
        "#6. Write a code to create a list with numbers 1 to 5 and print it\n",
        "\n",
        "my_list = [1,2,3,4,5]\n",
        "print(my_list)"
      ],
      "metadata": {
        "colab": {
          "base_uri": "https://localhost:8080/"
        },
        "id": "1PGmmbODIbpc",
        "outputId": "49f8f432-f35a-454f-ae05-00e95006154d"
      },
      "execution_count": 21,
      "outputs": [
        {
          "output_type": "stream",
          "name": "stdout",
          "text": [
            "[1, 2, 3, 4, 5]\n"
          ]
        }
      ]
    },
    {
      "cell_type": "code",
      "source": [
        "#7. Write a code to append the number 10 to the list [1, 2, 3, 4]\n",
        "\n",
        "my_list = [1,2,3,4]\n",
        "my_list.append(10)\n",
        "print(my_list)"
      ],
      "metadata": {
        "colab": {
          "base_uri": "https://localhost:8080/"
        },
        "id": "1WSg90tcIs6P",
        "outputId": "3c2fe0bd-3db9-470c-f21e-4a74f2473e9e"
      },
      "execution_count": 22,
      "outputs": [
        {
          "output_type": "stream",
          "name": "stdout",
          "text": [
            "[1, 2, 3, 4, 10]\n"
          ]
        }
      ]
    },
    {
      "cell_type": "code",
      "source": [
        "#8.Write a code to remove the number 3 from the list [1, 2, 3, 4, 5]\n",
        "\n",
        "my_list = [1,2,3,4,5]\n",
        "my_list.remove(3)\n",
        "print(my_list)"
      ],
      "metadata": {
        "colab": {
          "base_uri": "https://localhost:8080/"
        },
        "id": "_Hx6kmgiI14P",
        "outputId": "ad5b0e7c-4793-4575-cf3b-377436f90d5e"
      },
      "execution_count": 23,
      "outputs": [
        {
          "output_type": "stream",
          "name": "stdout",
          "text": [
            "[1, 2, 4, 5]\n"
          ]
        }
      ]
    },
    {
      "cell_type": "code",
      "source": [
        "#9. Write a code to access the second element in the list ['a', 'b', 'c', 'd']\n",
        "\n",
        "my_list = ['a', 'b', 'c', 'd']\n",
        "print(my_list[1])"
      ],
      "metadata": {
        "colab": {
          "base_uri": "https://localhost:8080/"
        },
        "id": "AMD_y1eBI98y",
        "outputId": "dc6e1ec1-cd3c-4c9e-b369-8d8f74dedb4d"
      },
      "execution_count": 24,
      "outputs": [
        {
          "output_type": "stream",
          "name": "stdout",
          "text": [
            "b\n"
          ]
        }
      ]
    },
    {
      "cell_type": "code",
      "source": [
        "#10.Write a code to reverse the list [10, 20, 30, 40, 50]\n",
        "\n",
        "my_list = [10, 20, 30, 40, 50]\n",
        "my_list.reverse()\n",
        "print(my_list)"
      ],
      "metadata": {
        "colab": {
          "base_uri": "https://localhost:8080/"
        },
        "id": "MDavzH2WJF78",
        "outputId": "0ac16a8e-ec79-424f-f28b-e814d4c31b4f"
      },
      "execution_count": 25,
      "outputs": [
        {
          "output_type": "stream",
          "name": "stdout",
          "text": [
            "[50, 40, 30, 20, 10]\n"
          ]
        }
      ]
    },
    {
      "cell_type": "code",
      "source": [
        "#11. Write a code to create a tuple with the elements 100, 200, 300 and print it\n",
        "\n",
        "my_tuple = (100,200,300)\n",
        "print(my_tuple)"
      ],
      "metadata": {
        "colab": {
          "base_uri": "https://localhost:8080/"
        },
        "id": "1KH9AXG_JN3k",
        "outputId": "23454ee2-ea65-4b49-a82f-6955ab867871"
      },
      "execution_count": 26,
      "outputs": [
        {
          "output_type": "stream",
          "name": "stdout",
          "text": [
            "(100, 200, 300)\n"
          ]
        }
      ]
    },
    {
      "cell_type": "code",
      "source": [
        "#12.Write a code to access the second-to-last element of the tuple ('red', 'green', 'blue', 'yellow')\n",
        "\n",
        "my_tuple = ('red', 'green', 'blue', 'yellow')\n",
        "print(my_tuple[-2])"
      ],
      "metadata": {
        "colab": {
          "base_uri": "https://localhost:8080/"
        },
        "id": "C185BLfqJVLb",
        "outputId": "3ffd0c31-b7f4-4573-c8e5-ed918aef9010"
      },
      "execution_count": 27,
      "outputs": [
        {
          "output_type": "stream",
          "name": "stdout",
          "text": [
            "blue\n"
          ]
        }
      ]
    },
    {
      "cell_type": "code",
      "source": [
        "#13. Write a code to find the minimum number in the tuple (10, 20, 5, 15)\n",
        "\n",
        "my_tuple = (10, 20, 5, 15)\n",
        "print(min(my_tuple))"
      ],
      "metadata": {
        "colab": {
          "base_uri": "https://localhost:8080/"
        },
        "id": "we1CtOu7Jb24",
        "outputId": "f33f1ba3-d8cb-4efc-d770-64ca1984599a"
      },
      "execution_count": 28,
      "outputs": [
        {
          "output_type": "stream",
          "name": "stdout",
          "text": [
            "5\n"
          ]
        }
      ]
    },
    {
      "cell_type": "code",
      "source": [
        "#14. Write a code to find the index of the element \"cat\" in the tuple ('dog', 'cat', 'rabbit')\n",
        "\n",
        "animails = ('dog', 'cat', 'rabbit')\n",
        "print(animails.index('cat'))"
      ],
      "metadata": {
        "colab": {
          "base_uri": "https://localhost:8080/"
        },
        "id": "oobinR0AJjJm",
        "outputId": "8f8d5083-2ef9-4267-ba0e-19ec360c29c9"
      },
      "execution_count": 29,
      "outputs": [
        {
          "output_type": "stream",
          "name": "stdout",
          "text": [
            "1\n"
          ]
        }
      ]
    },
    {
      "cell_type": "code",
      "source": [
        "#15.. Write a code to create a tuple containing three different fruits and check if \"kiwi\" is in it.\n",
        "\n",
        "fruits = (\"apple\", \"banana\", \"orange\")\n",
        "\n",
        "if \"kiwi\" in fruits:\n",
        "    print(\"kiwi is in the tuple\")\n",
        "else:\n",
        "    print(\"kiwi is not in the tuple\")"
      ],
      "metadata": {
        "colab": {
          "base_uri": "https://localhost:8080/"
        },
        "id": "1gc7fLRyJ3II",
        "outputId": "d42242ef-be50-48cb-cb0c-147eccaa3b49"
      },
      "execution_count": 30,
      "outputs": [
        {
          "output_type": "stream",
          "name": "stdout",
          "text": [
            "kiwi is not in the tuple\n"
          ]
        }
      ]
    },
    {
      "cell_type": "code",
      "source": [
        "#16.Write a code to create a set with the elements 'a', 'b', 'c' and print it.\n",
        "\n",
        "my_set = {'a', 'b', 'c'}\n",
        "print(my_set)"
      ],
      "metadata": {
        "colab": {
          "base_uri": "https://localhost:8080/"
        },
        "id": "Dl3KjfUbJ_GV",
        "outputId": "ee26415e-e1aa-40e9-d1ef-b0d394d0ac0d"
      },
      "execution_count": 31,
      "outputs": [
        {
          "output_type": "stream",
          "name": "stdout",
          "text": [
            "{'c', 'a', 'b'}\n"
          ]
        }
      ]
    },
    {
      "cell_type": "code",
      "source": [
        "#17.Write a code to clear all elements from the set {1, 2, 3, 4, 5}.\n",
        "\n",
        "my_set = {1, 2, 3, 4, 5}\n",
        "my_set.clear()\n",
        "print(my_set)"
      ],
      "metadata": {
        "colab": {
          "base_uri": "https://localhost:8080/"
        },
        "id": "alyc6m10KFNj",
        "outputId": "bc0bbb9e-8b63-413a-9916-2eb7578a4095"
      },
      "execution_count": 32,
      "outputs": [
        {
          "output_type": "stream",
          "name": "stdout",
          "text": [
            "set()\n"
          ]
        }
      ]
    },
    {
      "cell_type": "code",
      "source": [
        "#18.Write a code to remove the element 4 from the set {1, 2, 3, 4}\n",
        "\n",
        "my_set = {1, 2, 3, 4}\n",
        "my_set.remove(4)\n",
        "print(my_set)"
      ],
      "metadata": {
        "colab": {
          "base_uri": "https://localhost:8080/"
        },
        "id": "735gpXh_KLvr",
        "outputId": "a73c308c-ed52-4e93-f7d8-2528a70d82a2"
      },
      "execution_count": 33,
      "outputs": [
        {
          "output_type": "stream",
          "name": "stdout",
          "text": [
            "{1, 2, 3}\n"
          ]
        }
      ]
    },
    {
      "cell_type": "code",
      "source": [
        "#19. Write a code to find the union of two sets {1, 2, 3} and {3, 4, 5}\n",
        "\n",
        "set1 = {1, 2, 3}\n",
        "set2 = {3, 4, 5}\n",
        "union_set = set1.union(set2)\n",
        "print(union_set)"
      ],
      "metadata": {
        "colab": {
          "base_uri": "https://localhost:8080/"
        },
        "id": "uUzJrsWRKRrk",
        "outputId": "5e0903ce-97e0-47cd-b169-e10c389e6952"
      },
      "execution_count": 34,
      "outputs": [
        {
          "output_type": "stream",
          "name": "stdout",
          "text": [
            "{1, 2, 3, 4, 5}\n"
          ]
        }
      ]
    },
    {
      "cell_type": "code",
      "source": [
        "#20. Write a code to find the intersection of two sets {1, 2, 3} and {2, 3, 4}\n",
        "\n",
        "set1 = {1, 2, 3}\n",
        "set2 = {2, 3, 4}\n",
        "intersection_set = set1.intersection(set2)\n",
        "print(intersection_set)"
      ],
      "metadata": {
        "colab": {
          "base_uri": "https://localhost:8080/"
        },
        "id": "KWmDctQuKW35",
        "outputId": "299538ed-dec4-49f7-d57e-8ceaceddff81"
      },
      "execution_count": 35,
      "outputs": [
        {
          "output_type": "stream",
          "name": "stdout",
          "text": [
            "{2, 3}\n"
          ]
        }
      ]
    },
    {
      "cell_type": "code",
      "source": [
        "#21.Write a code to create a dictionary with the keys \"name\", \"age\", and \"city\", and print it\n",
        "my_dict = {\"name\": \"John\", \"age\": 25, \"city\": \"New York\"}\n",
        "print(my_dict)\n",
        "\n"
      ],
      "metadata": {
        "colab": {
          "base_uri": "https://localhost:8080/"
        },
        "id": "tlS_ReDuKl6w",
        "outputId": "35b13aa0-4c2a-4e39-bc95-79d70a9998c4"
      },
      "execution_count": 36,
      "outputs": [
        {
          "output_type": "stream",
          "name": "stdout",
          "text": [
            "{'name': 'John', 'age': 25, 'city': 'New York'}\n"
          ]
        }
      ]
    },
    {
      "cell_type": "code",
      "source": [
        "#22.Write a code to add a new key-value pair \"country\": \"USA\" to the dictionary {'name': 'John', 'age': 25}\n",
        "\n",
        "my_dict = {'name': 'John', 'age': 25}\n",
        "my_dict[\"country\"] = \"USA\"\n",
        "print(my_dict)"
      ],
      "metadata": {
        "colab": {
          "base_uri": "https://localhost:8080/"
        },
        "id": "ebZaFCmNK2-U",
        "outputId": "e952de0a-0e4e-4074-b03b-9e20db845168"
      },
      "execution_count": 37,
      "outputs": [
        {
          "output_type": "stream",
          "name": "stdout",
          "text": [
            "{'name': 'John', 'age': 25, 'country': 'USA'}\n"
          ]
        }
      ]
    },
    {
      "cell_type": "code",
      "source": [
        "#23.Write a code to access the value associated with the key \"name\" in the dictionary {'name': 'Alice', 'age': 30}.\n",
        "\n",
        "my_dict = {'name': 'Alice', 'age': 30}\n",
        "print(my_dict[\"name\"])"
      ],
      "metadata": {
        "colab": {
          "base_uri": "https://localhost:8080/"
        },
        "id": "UMKp8oyuLEPM",
        "outputId": "4f415a59-f326-4f54-d4cd-475a293bb277"
      },
      "execution_count": 38,
      "outputs": [
        {
          "output_type": "stream",
          "name": "stdout",
          "text": [
            "Alice\n"
          ]
        }
      ]
    },
    {
      "cell_type": "code",
      "source": [
        "#24.Write a code to remove the key \"age\" from the dictionary {'name': 'Bob', 'age': 22, 'city': 'New York'}.\n",
        "\n",
        "my_dict = {'name': 'Bob', 'age': 22, 'city': 'New York'}\n",
        "del my_dict[\"age\"]\n",
        "print(my_dict)"
      ],
      "metadata": {
        "colab": {
          "base_uri": "https://localhost:8080/"
        },
        "id": "TU2z5EOFLKEF",
        "outputId": "29ccdb9a-1fc1-431e-cf83-8dead0495e48"
      },
      "execution_count": 39,
      "outputs": [
        {
          "output_type": "stream",
          "name": "stdout",
          "text": [
            "{'name': 'Bob', 'city': 'New York'}\n"
          ]
        }
      ]
    },
    {
      "cell_type": "code",
      "source": [
        "#25.. Write a code to check if the key \"city\" exists in the dictionary {'name': 'Alice', 'city': 'Paris'}.\n",
        "\n",
        "my_dict = {'name': 'Alice', 'city': 'Paris'}\n",
        "if \"city\" in my_dict:\n",
        "    print(\"The key 'city' exists in the dictionary.\")\n",
        "else:\n",
        "    print(\"The key 'city' does not exist in the dictionary.\")"
      ],
      "metadata": {
        "colab": {
          "base_uri": "https://localhost:8080/"
        },
        "id": "wz_5LekxLRJ4",
        "outputId": "ca926514-0bc0-4c9b-d565-cc0c2a82dcec"
      },
      "execution_count": 40,
      "outputs": [
        {
          "output_type": "stream",
          "name": "stdout",
          "text": [
            "The key 'city' exists in the dictionary.\n"
          ]
        }
      ]
    },
    {
      "cell_type": "code",
      "source": [
        "#26.Write a code to create a list, a tuple, and a dictionary, and print them all\n",
        "\n",
        "my_list = [1, 2, 3, 4, 5]\n",
        "my_tuple = (10, 20, 30, 40, 50)\n",
        "my_dict = {\"name\": \"John\", \"age\": 25, \"city\": \"New York\"}\n",
        "\n",
        "print(\"List:\", my_list)\n",
        "print(\"Tuple:\", my_tuple)\n",
        "print(\"Dictionary:\", my_dict)"
      ],
      "metadata": {
        "colab": {
          "base_uri": "https://localhost:8080/"
        },
        "id": "j9o0JWGLLXfA",
        "outputId": "3ae47f41-12f0-4ebb-d7a6-0e7462a2b52b"
      },
      "execution_count": 43,
      "outputs": [
        {
          "output_type": "stream",
          "name": "stdout",
          "text": [
            "List: [1, 2, 3, 4, 5]\n",
            "Tuple: (10, 20, 30, 40, 50)\n",
            "Dictionary: {'name': 'John', 'age': 25, 'city': 'New York'}\n"
          ]
        }
      ]
    },
    {
      "cell_type": "code",
      "source": [
        "#27. Write a code to create a list of 5 random numbers between 1 and 100, sort it in ascending order, and print the\n",
        "result\n",
        "\n",
        "random_numbers = random.randint(1, 100), 5)\n",
        "random_numbers.sort()\n",
        "print(Sorted Random Numbers:\", random_numbers)"
      ],
      "metadata": {
        "colab": {
          "base_uri": "https://localhost:8080/",
          "height": 109
        },
        "id": "fwLXmNniLpVg",
        "outputId": "874e76f2-5581-45e7-b1ca-bd55d8e8d6d4"
      },
      "execution_count": 47,
      "outputs": [
        {
          "output_type": "error",
          "ename": "SyntaxError",
          "evalue": "unmatched ')' (ipython-input-47-1110382099.py, line 4)",
          "traceback": [
            "\u001b[0;36m  File \u001b[0;32m\"/tmp/ipython-input-47-1110382099.py\"\u001b[0;36m, line \u001b[0;32m4\u001b[0m\n\u001b[0;31m    random_numbers = random.randint(1, 100), 5)\u001b[0m\n\u001b[0m                                              ^\u001b[0m\n\u001b[0;31mSyntaxError\u001b[0m\u001b[0;31m:\u001b[0m unmatched ')'\n"
          ]
        }
      ]
    },
    {
      "cell_type": "code",
      "source": [
        "#28.Write a code to create a list with strings and print the element at the third index\n",
        "\n",
        "my_list = [\"apple\", \"banana\", \"cherry\", \"date\", \"elderberry\"]\n",
        "print(my_list[2])"
      ],
      "metadata": {
        "colab": {
          "base_uri": "https://localhost:8080/"
        },
        "id": "ZrmuoRKOM4Wt",
        "outputId": "9c454c37-2159-46cb-acdb-61c90214c994"
      },
      "execution_count": 48,
      "outputs": [
        {
          "output_type": "stream",
          "name": "stdout",
          "text": [
            "cherry\n"
          ]
        }
      ]
    },
    {
      "cell_type": "code",
      "source": [
        "#29.Write a code to combine two dictionaries into one and print the result.\n",
        "\n",
        "dict1 = {\"a\": 1, \"b\": 2}\n",
        "dict2 = {\"c\": 3, \"d\": 4}\n",
        "combined_dict = {**dict1, **dict2}\n",
        "print(combined_dict)"
      ],
      "metadata": {
        "colab": {
          "base_uri": "https://localhost:8080/"
        },
        "id": "Rco-vpDcNAI6",
        "outputId": "efee31b9-d607-4a6c-e92b-9b8308c316da"
      },
      "execution_count": 49,
      "outputs": [
        {
          "output_type": "stream",
          "name": "stdout",
          "text": [
            "{'a': 1, 'b': 2, 'c': 3, 'd': 4}\n"
          ]
        }
      ]
    },
    {
      "cell_type": "code",
      "source": [
        "#30. Write a code to convert a list of strings into a set\n",
        "\n",
        "my_list = [\"apple\", \"banana\", \"cherry\", \"date\", \"elderberry\"]\n",
        "my_set = set(my_list)\n",
        "print(my_set)"
      ],
      "metadata": {
        "colab": {
          "base_uri": "https://localhost:8080/"
        },
        "id": "wubCkgH_NGHp",
        "outputId": "a6b0d9f1-77cd-43b7-ef72-8de5a98c5fed"
      },
      "execution_count": 50,
      "outputs": [
        {
          "output_type": "stream",
          "name": "stdout",
          "text": [
            "{'elderberry', 'cherry', 'banana', 'date', 'apple'}\n"
          ]
        }
      ]
    }
  ]
}